{
  "cells": [
    {
      "attachments": {},
      "cell_type": "markdown",
      "metadata": {},
      "source": [
        "### EDA\n",
        "\n",
        "The output files of this notebook can be found under **eda** file."
      ]
    },
    {
      "cell_type": "code",
      "execution_count": null,
      "metadata": {
        "id": "EWJF3rC-VL0g"
      },
      "outputs": [],
      "source": [
        "import pandas as pd\n",
        "import numpy as np\n",
        "import statsmodels.api as sm\n",
        "import scipy.stats as st\n",
        "import matplotlib.pyplot as plt\n",
        "import seaborn as sn\n",
        "import matplotlib.mlab as mlab\n",
        "from sklearn.preprocessing import StandardScaler\n",
        "import os\n",
        "%matplotlib inline"
      ]
    },
    {
      "cell_type": "code",
      "execution_count": null,
      "metadata": {
        "id": "Z2eyJt_JVtvQ"
      },
      "outputs": [],
      "source": [
        "root_dir = \"/your/path/to/this/project\"\n",
        "eda_dir = root_dir + \"/eda\"\n",
        "pf_df = pd.read_excel(f\"{root_dir}/your/path/to/your/data.xlsx\")"
      ]
    },
    {
      "cell_type": "code",
      "execution_count": null,
      "metadata": {
        "id": "usPNKWaeQ0RU"
      },
      "outputs": [],
      "source": [
        "y = pf_df[\"TUMOR_TYPE\"]\n",
        "pf_df = pf_df.drop([\"TUMOR_TYPE\"], axis = 1)"
      ]
    },
    {
      "cell_type": "code",
      "execution_count": null,
      "metadata": {
        "colab": {
          "base_uri": "https://localhost:8080/",
          "height": 483
        },
        "id": "PLMksVlHMR4q",
        "outputId": "79d649d1-a5dc-4f0d-dea6-bd4f7b5e6274"
      },
      "outputs": [],
      "source": [
        "pf_df.head()"
      ]
    },
    {
      "cell_type": "code",
      "execution_count": null,
      "metadata": {
        "id": "rewmk4Q-Q0UM"
      },
      "outputs": [],
      "source": [
        "from sklearn import preprocessing\n",
        "scaler = preprocessing.StandardScaler()\n",
        "scaler.fit(pf_df)\n",
        "    # Scaled features\n",
        "pf_df = pd.DataFrame(scaler.transform(pf_df), columns = pf_df.columns)\n",
        "pf_df[\"TUMOR_TYPE\"] = y\n"
      ]
    },
    {
      "cell_type": "code",
      "execution_count": null,
      "metadata": {
        "colab": {
          "base_uri": "https://localhost:8080/",
          "height": 483
        },
        "id": "LOfDumzbRXzK",
        "outputId": "a735ae92-59ea-4686-9d03-c46b1941dc3c"
      },
      "outputs": [],
      "source": [
        "pf_df.head()"
      ]
    },
    {
      "cell_type": "code",
      "execution_count": null,
      "metadata": {
        "colab": {
          "base_uri": "https://localhost:8080/",
          "height": 483
        },
        "id": "rj8RVvURSfPI",
        "outputId": "08d2fe2e-ad1f-4001-c996-59da6ae65055"
      },
      "outputs": [],
      "source": [
        "pf_df[\"TUMOR_TYPE\"] = y\n",
        "pf_df.head()"
      ]
    },
    {
      "cell_type": "code",
      "execution_count": null,
      "metadata": {},
      "outputs": [],
      "source": [
        "## For Each Case\n",
        "\n",
        "###### MB EP ######\n",
        "#pf_df = pf_df[(pf_df[\"TUMOR_TYPE\"] == 'MEDULLOBLASTOMA') | (pf_df[\"TUMOR_TYPE\"] == 'EPENDYMOMA')]\n",
        "\n",
        "###### MB PA ######\n",
        "#pf_df = pf_df[(pf_df[\"TUMOR_TYPE\"] == 'MEDULLOBLASTOMA') | (pf_df[\"TUMOR_TYPE\"] == 'PILOCYTIC ASTROCYTOMA')]\n",
        "\n",
        "###### MB BG ######\n",
        "# pf_df = pf_df[(pf_df[\"TUMOR_TYPE\"] == 'MEDULLOBLASTOMA') | (pf_df[\"TUMOR_TYPE\"] == 'GLIOMA')]\n",
        "\n",
        "###### EP PA ######\n",
        "# pf_df = pf_df[(pf_df[\"TUMOR_TYPE\"] == 'EPENDYMOMA') | (pf_df[\"TUMOR_TYPE\"] == 'PILOCYTIC ASTROCYTOMA')]\n",
        "\n",
        "###### EP BG ######\n",
        "# pf_df = pf_df[(pf_df[\"TUMOR_TYPE\"] == 'EPENDYMOMA') | (pf_df[\"TUMOR_TYPE\"] == 'GLIOMA')]\n",
        "\n",
        "###### PA BG ######\n",
        "# pf_df = pf_df[(pf_df[\"TUMOR_TYPE\"] == 'PILOCYTIC ASTROCYTOMA') | (pf_df[\"TUMOR_TYPE\"] == 'GLIOMA')]\n",
        "\n",
        "###### MB EP PA BG ######\n",
        "#pf_df = pf_df\n",
        "\n",
        "# pf_df can be replaced with any of the above dataframes\n",
        "dataset = \"mb_ep_pa_bg\""
      ]
    },
    {
      "cell_type": "code",
      "execution_count": null,
      "metadata": {
        "id": "qi95YtnCmJtQ"
      },
      "outputs": [],
      "source": [
        "# MRI modalities are separated and tumor type is added to each of them\n",
        "\n",
        "T2 = pd.DataFrame(pf_df[pf_df.columns[0:3]])\n",
        "T2[\"TUMOR_TYPE\"] = y\n",
        "FLAIR = pd.DataFrame(pf_df[pf_df.columns[3:6]])\n",
        "FLAIR[\"TUMOR_TYPE\"] = y\n",
        "T1 = pd.DataFrame(pf_df[pf_df.columns[6:9]])\n",
        "T1[\"TUMOR_TYPE\"] = y\n",
        "T1CE = pd.DataFrame(pf_df[pf_df.columns[9:12]])\n",
        "T1CE[\"TUMOR_TYPE\"] = y\n",
        "DWI = pd.DataFrame(pf_df[pf_df.columns[12:15]])\n",
        "DWI[\"TUMOR_TYPE\"] = y\n",
        "ADC = pd.DataFrame(pf_df[pf_df.columns[15:18]])\n",
        "ADC[\"TUMOR_TYPE\"] = y"
      ]
    },
    {
      "cell_type": "code",
      "execution_count": null,
      "metadata": {},
      "outputs": [],
      "source": [
        "# INDIVIDUAL FEATURES FOR KDE PLOTS\n",
        "\n",
        "T2_Ratio = pd.DataFrame(pf_df[\"T2_Ratio\"])\n",
        "T2_Ratio[\"TUMOR_TYPE\"] = y\n",
        "\n",
        "T2_Tumor = pd.DataFrame(pf_df[\"T2_Tumor\"])\n",
        "T2_Tumor[\"TUMOR_TYPE\"] = y\n",
        "\n",
        "T2_par = pd.DataFrame(pf_df[\"T2_Parenchyma\"])\n",
        "T2_par[\"TUMOR_TYPE\"] = y\n",
        "\n",
        "T1_Ratio = pd.DataFrame(pf_df[\"T1_Ratio\"])\n",
        "T1_Ratio[\"TUMOR_TYPE\"] = y\n",
        "\n",
        "T1_Tumor = pd.DataFrame(pf_df[\"T1_Tumor\"])\n",
        "T1_Tumor[\"TUMOR_TYPE\"] = y\n",
        "\n",
        "T1_par = pd.DataFrame(pf_df[\"T1_Parenchyma\"])\n",
        "T1_par[\"TUMOR_TYPE\"] = y\n",
        "\n",
        "T1CE_Ratio = pd.DataFrame(pf_df[\"T1CE_Ratio\"])\n",
        "T1CE_Ratio[\"TUMOR_TYPE\"] = y\n",
        "\n",
        "T1CE_Tumor = pd.DataFrame(pf_df[\"T1CE_Tumor\"])\n",
        "T1CE_Tumor[\"TUMOR_TYPE\"] = y\n",
        "\n",
        "T1CE_par = pd.DataFrame(pf_df[\"T1CE_Parenchyma\"])\n",
        "T1CE_par[\"TUMOR_TYPE\"] = y\n",
        "\n",
        "FLAIR_Tumor = pd.DataFrame(pf_df[\"FLAIR_Tumor\"])\n",
        "FLAIR_Tumor[\"TUMOR_TYPE\"] = y\n",
        "\n",
        "FLAIR_Ratio = pd.DataFrame(pf_df[\"FLAIR_Ratio\"])\n",
        "FLAIR_Ratio[\"TUMOR_TYPE\"] = y\n",
        "\n",
        "FLAIR_par = pd.DataFrame(pf_df[\"FLAIR_Parenchyma\"])\n",
        "FLAIR_par[\"TUMOR_TYPE\"] = y\n",
        "\n",
        "DWI_Tumor = pd.DataFrame(pf_df[\"DWI_Tumor\"])\n",
        "DWI_Tumor[\"TUMOR_TYPE\"] = y\n",
        "\n",
        "DWI_Ratio = pd.DataFrame(pf_df[\"DWI_Ratio\"])\n",
        "DWI_Ratio[\"TUMOR_TYPE\"] = y\n",
        "\n",
        "DWI_par = pd.DataFrame(pf_df[\"DWI_Parenchyma\"])\n",
        "DWI_par[\"TUMOR_TYPE\"] = y\n",
        "\n",
        "ADC_Tumor = pd.DataFrame(pf_df[\"ADC_Tumor\"])\n",
        "ADC_Tumor[\"TUMOR_TYPE\"] = y\n",
        "\n",
        "ADC_Ratio = pd.DataFrame(pf_df[\"ADC_Ratio\"])\n",
        "ADC_Ratio[\"TUMOR_TYPE\"] = y\n",
        "\n",
        "ADC_par = pd.DataFrame(pf_df[\"ADC_Parenchyma\"])\n",
        "ADC_par[\"TUMOR_TYPE\"] = y\n",
        "\n"
      ]
    },
    {
      "attachments": {},
      "cell_type": "markdown",
      "metadata": {},
      "source": [
        "# ANALYSIS 1"
      ]
    },
    {
      "cell_type": "code",
      "execution_count": null,
      "metadata": {
        "colab": {
          "base_uri": "https://localhost:8080/",
          "height": 1000
        },
        "id": "r9xMnuPKtOXb",
        "outputId": "bb151690-3ffd-40ae-d7bc-e14fd49164cb"
      },
      "outputs": [],
      "source": [
        "try:\n",
        "   os.mkdir(eda_dir)\n",
        "except OSError as error: \n",
        "   pass\n",
        "\n",
        "try:\n",
        "   os.mkdir(f'{eda_dir}/analysis-1')\n",
        "except OSError as error: \n",
        "   pass\n",
        "\n",
        "try:\n",
        "   os.mkdir(f'{eda_dir}/analysis-1/pdf')\n",
        "   os.mkdir(f'{eda_dir}/analysis-1/png')\n",
        "except OSError as error: \n",
        "   pass\n",
        "############################################\n",
        "\n",
        "plt.figure(dpi = 500)\n",
        "sn.set_style('dark', {'axes.grid' : False})\n",
        "with sn.plotting_context(rc={\"axes.labelsize\":14}):\n",
        "   t2 = sn.pairplot(T2, hue=\"TUMOR_TYPE\", corner=True, palette=\"ch:s=-.5,r=.5\", plot_kws={'alpha': 1}, diag_kws={'alpha': 0.55, 'common_norm': False})\n",
        "   sn.move_legend(t2, \"upper left\", bbox_to_anchor=(0.4, 1), ncol=1, title=None, frameon=True, fontsize=13)\n",
        "#t2._legend.remove()\n",
        "t2.savefig(f'{eda_dir}/analysis-1/pdf/T2.pdf')\n",
        "t2.savefig(f'{eda_dir}/analysis-1/png/T2.png')\n",
        "\n",
        "plt.figure(dpi = 500)\n",
        "sn.set_style('dark', {'axes.grid' : False})\n",
        "with sn.plotting_context(rc={\"axes.labelsize\":14}):\n",
        "   fl = sn.pairplot(FLAIR, hue=\"TUMOR_TYPE\", corner=True, palette=\"ch:s=-.5,r=.5\", plot_kws={'alpha': 1}, diag_kws={'alpha': 0.55, 'common_norm': False})\n",
        "   sn.move_legend(fl, \"upper left\", bbox_to_anchor=(0.4, 1), ncol=1, title=None, frameon=True, fontsize=13)\n",
        "\n",
        "#fl._legend.remove()\n",
        "fl.savefig(f'{eda_dir}/analysis-1/pdf/FLAIR.pdf')\n",
        "fl.savefig(f'{eda_dir}/analysis-1/png/FLAIR.png')\n",
        "\n",
        "plt.figure(dpi = 500)\n",
        "sn.set_style('dark', {'axes.grid' : False})\n",
        "with sn.plotting_context(rc={\"axes.labelsize\":14}):\n",
        "   t1 = sn.pairplot(T1, hue=\"TUMOR_TYPE\", corner=True, palette=\"ch:s=-.5,r=.5\", plot_kws={'alpha': 1}, diag_kws={'alpha': 0.55, 'common_norm': False})\n",
        "   sn.move_legend(t1, \"upper left\", bbox_to_anchor=(0.4, 1), ncol=1, title=None, frameon=True, fontsize=13)\n",
        "t1.savefig(f'{eda_dir}/analysis-1/pdf/T1.pdf')\n",
        "t1.savefig(f'{eda_dir}/analysis-1/png/T1.png')\n",
        "\n",
        "plt.figure(dpi = 500)\n",
        "sn.set_style('dark', {'axes.grid' : False})\n",
        "with sn.plotting_context(rc={\"axes.labelsize\":14}):\n",
        "   t1ce = sn.pairplot(T1CE, hue=\"TUMOR_TYPE\", corner=True, palette=\"ch:s=-.5,r=.5\", plot_kws={'alpha': 1}, diag_kws={'alpha': 0.55, 'common_norm': False})\n",
        "   sn.move_legend(t1ce, \"upper left\", bbox_to_anchor=(0.4, 1), ncol=1, title=None, frameon=True, fontsize=13)\n",
        "\n",
        "#t1ce._legend.remove()\n",
        "t1ce.savefig(f'{eda_dir}/analysis-1/pdf/T1CE.pdf')\n",
        "t1ce.savefig(f'{eda_dir}/analysis-1/png/T1CE.png')\n",
        "\n",
        "plt.figure(dpi = 500)\n",
        "sn.set_style('dark', {'axes.grid' : False})\n",
        "with sn.plotting_context(rc={\"axes.labelsize\":14}):\n",
        "   dwi = sn.pairplot(DWI, hue=\"TUMOR_TYPE\", corner=True, palette=\"ch:s=-.5,r=.5\", plot_kws={'alpha': 1}, diag_kws={'alpha': 0.55, 'common_norm': False})\n",
        "   sn.move_legend(dwi, \"upper left\", bbox_to_anchor=(0.4, 1), ncol=1, title=None, frameon=True, fontsize=13)\n",
        "#dwi._legend.remove()\n",
        "dwi.savefig(f'{eda_dir}/analysis-1/pdf/dwi.pdf')\n",
        "dwi.savefig(f'{eda_dir}/analysis-1/png/dwi.png')\n",
        "\n",
        "\n",
        "plt.figure(dpi = 500)\n",
        "sn.set_style('dark', {'axes.grid' : False})\n",
        "with sn.plotting_context(rc={\"axes.labelsize\":14}):\n",
        "   adc = sn.pairplot(ADC, hue=\"TUMOR_TYPE\", corner=True, palette=\"ch:s=-.5,r=.5\", plot_kws={'alpha': 1}, diag_kws={'alpha': 0.55, 'common_norm': False})\n",
        "   sn.move_legend(adc, \"upper left\", bbox_to_anchor=(0.4, 1), ncol=1, title=None, frameon=True, fontsize=13)\n",
        "#adc._legend.remove()\n",
        "adc.savefig(f'{eda_dir}/analysis-1/pdf/adc.pdf')\n",
        "adc.savefig(f'{eda_dir}/analysis-1/png/adc.png')\n",
        "\n",
        "\n"
      ]
    },
    {
      "attachments": {},
      "cell_type": "markdown",
      "metadata": {},
      "source": [
        "____\n"
      ]
    },
    {
      "attachments": {},
      "cell_type": "markdown",
      "metadata": {},
      "source": [
        "# ANALYSIS 2"
      ]
    },
    {
      "cell_type": "code",
      "execution_count": null,
      "metadata": {},
      "outputs": [],
      "source": [
        "### VARIABLES ###\n",
        "palette = 'twilight_r'\n",
        "common_norm = False\n",
        "alpha = .7\n",
        "linewidth = 0.7\n",
        "label_size = 18\n",
        "\n",
        "\n",
        "try:\n",
        "   os.mkdir(eda_dir)\n",
        "except OSError as error: \n",
        "   pass\n",
        "\n",
        "try:\n",
        "   os.mkdir(f'{eda_dir}/analysis-2')\n",
        "except OSError as error: \n",
        "   pass\n",
        "\n",
        "try:\n",
        "   os.mkdir(f'{eda_dir}/analysis-2/{dataset}')\n",
        "except OSError as error: \n",
        "   pass\n",
        "\n",
        "try:\n",
        "   os.mkdir(f'{eda_dir}/analysis-2/{dataset}/pdf')\n",
        "   os.mkdir(f'{eda_dir}/analysis-2/{dataset}/png')\n",
        "except OSError as error: \n",
        "   pass\n",
        "############################################\n",
        "\n",
        "\n",
        "plt.figure(dpi=300)\n",
        "sn.set_style('dark', {'axes.grid' : False})\n",
        "with sn.plotting_context(rc={\"axes.labelsize\":label_size}):\n",
        "   sns_hist = sn.kdeplot(\n",
        "   data=T2_Ratio, x=\"T2_Ratio\", hue=\"TUMOR_TYPE\",\n",
        "   fill=True, palette=palette, common_norm=common_norm, alpha=alpha, linewidth=linewidth\n",
        ")\n",
        "t2 = sns_hist.get_figure()\n",
        "t2.savefig(f'{eda_dir}/analysis-2/{dataset}/pdf/T2_Ratio.pdf')\n",
        "t2.savefig(f'{eda_dir}/analysis-2/{dataset}/png/T2_Ratio.png')\n",
        "\n",
        "\n",
        "plt.figure(dpi=300)\n",
        "sn.set_style('dark', {'axes.grid' : False})\n",
        "with sn.plotting_context(rc={\"axes.labelsize\":label_size}):\n",
        "   sns_hist = sn.kdeplot(\n",
        "   data=T2_Tumor, x=\"T2_Tumor\", hue=\"TUMOR_TYPE\",\n",
        "   fill=True, palette=palette, common_norm=common_norm, alpha=alpha, linewidth=linewidth\n",
        ")\n",
        "t2 = sns_hist.get_figure()\n",
        "t2.savefig(f'{eda_dir}/analysis-2/{dataset}/pdf/T2_Tumor.pdf')\n",
        "t2.savefig(f'{eda_dir}/analysis-2/{dataset}/png/T2_Tumor.png')\n",
        "\n",
        "plt.figure(dpi=300)\n",
        "sn.set_style('dark', {'axes.grid' : False})\n",
        "with sn.plotting_context(rc={\"axes.labelsize\":label_size}):\n",
        "   sns_hist = sn.kdeplot(\n",
        "   data=T2_par, x=\"T2_Parenchyma\", hue=\"TUMOR_TYPE\",\n",
        "   fill=True, palette=palette, common_norm=common_norm, alpha=alpha, linewidth=linewidth\n",
        ")\n",
        "t2 = sns_hist.get_figure()\n",
        "t2.savefig(f'{eda_dir}/analysis-2/{dataset}/pdf/T2_Parenchyma.pdf')\n",
        "t2.savefig(f'{eda_dir}/analysis-2/{dataset}/png/T2_Parenchyma.png')\n",
        "\n",
        "\n",
        "plt.figure(dpi=300)\n",
        "sn.set_style('dark', {'axes.grid' : False})\n",
        "with sn.plotting_context(rc={\"axes.labelsize\":label_size}):\n",
        "   sns_hist = sn.kdeplot(\n",
        "   data=T1CE_Tumor, x=\"T1CE_Tumor\", hue=\"TUMOR_TYPE\",\n",
        "   fill=True, palette=palette, common_norm=common_norm, alpha=alpha, linewidth=linewidth\n",
        ")\n",
        "t1ce = sns_hist.get_figure()\n",
        "t1ce.savefig(f'{eda_dir}/analysis-2/{dataset}/pdf/T1CE_Tumor.pdf')\n",
        "t1ce.savefig(f'{eda_dir}/analysis-2/{dataset}/png/T1CE_Tumor.png')\n",
        "\n",
        "\n",
        "plt.figure(dpi=300)\n",
        "sn.set_style('dark', {'axes.grid' : False})\n",
        "with sn.plotting_context(rc={\"axes.labelsize\":label_size}):\n",
        "   sns_hist = sn.kdeplot(\n",
        "   data=T1CE_Ratio, x=\"T1CE_Ratio\", hue=\"TUMOR_TYPE\",\n",
        "   fill=True, palette=palette, common_norm=common_norm, alpha=alpha, linewidth=linewidth\n",
        ")\n",
        "t1ce = sns_hist.get_figure()\n",
        "t1ce.savefig(f'{eda_dir}/analysis-2/{dataset}/pdf/T1CE_Ratio.pdf')\n",
        "t1ce.savefig(f'{eda_dir}/analysis-2/{dataset}/png/T1CE_Ratio.png')\n",
        "\n",
        "plt.figure(dpi=300)\n",
        "sn.set_style('dark', {'axes.grid' : False})\n",
        "with sn.plotting_context(rc={\"axes.labelsize\":label_size}):\n",
        "   sns_hist = sn.kdeplot(\n",
        "   data=T1CE_par, x=\"T1CE_Parenchyma\", hue=\"TUMOR_TYPE\",\n",
        "   fill=True, palette=palette, common_norm=common_norm, alpha=alpha, linewidth=linewidth\n",
        ")\n",
        "t1ce = sns_hist.get_figure()\n",
        "t1ce.savefig(f'{eda_dir}/analysis-2/{dataset}/pdf/T1CE_Parenchyma.pdf')\n",
        "t1ce.savefig(f'{eda_dir}/analysis-2/{dataset}/png/T1CE_Parenchyma.png')\n",
        "\n",
        "\n",
        "plt.figure(dpi=300)\n",
        "sn.set_style('dark', {'axes.grid' : False})\n",
        "with sn.plotting_context(rc={\"axes.labelsize\":label_size}):\n",
        "   sns_hist = sn.kdeplot(\n",
        "   data=T1_Tumor, x=\"T1_Tumor\", hue=\"TUMOR_TYPE\",\n",
        "   fill=True, palette=palette, common_norm=common_norm, alpha=alpha, linewidth=linewidth\n",
        ")\n",
        "t1 = sns_hist.get_figure()\n",
        "t1.savefig(f'{eda_dir}/analysis-2/{dataset}/pdf/T1_Tumor.pdf')\n",
        "t1.savefig(f'{eda_dir}/analysis-2/{dataset}/png/T1_Tumor.png')\n",
        "\n",
        "\n",
        "plt.figure(dpi=300)\n",
        "sn.set_style('dark', {'axes.grid' : False})\n",
        "with sn.plotting_context(rc={\"axes.labelsize\":label_size}):\n",
        "   sns_hist = sn.kdeplot(\n",
        "   data=T1_par, x=\"T1_Parenchyma\", hue=\"TUMOR_TYPE\",\n",
        "   fill=True, palette=palette, common_norm=common_norm, alpha=alpha, linewidth=linewidth\n",
        ")\n",
        "t1 = sns_hist.get_figure()\n",
        "t1.savefig(f'{eda_dir}/analysis-2/{dataset}/pdf/T1_Parenchyma.pdf')\n",
        "t1.savefig(f'{eda_dir}/analysis-2/{dataset}/png/T1_Parenchyma.png')\n",
        "\n",
        "\n",
        "plt.figure(dpi=300)\n",
        "sn.set_style('dark', {'axes.grid' : False})\n",
        "with sn.plotting_context(rc={\"axes.labelsize\":label_size}):\n",
        "   sns_hist = sn.kdeplot(\n",
        "   data=T1_Ratio, x=\"T1_Ratio\", hue=\"TUMOR_TYPE\",\n",
        "   fill=True, palette=palette, common_norm=common_norm, alpha=alpha, linewidth=linewidth\n",
        ")\n",
        "t1 = sns_hist.get_figure()\n",
        "t1.savefig(f'{eda_dir}/analysis-2/{dataset}/pdf/T1_Ratio.pdf')\n",
        "t1.savefig(f'{eda_dir}/analysis-2/{dataset}/png/T1_Ratio.png')\n",
        "\n",
        "plt.figure(dpi=300)\n",
        "sn.set_style('dark', {'axes.grid' : False})\n",
        "with sn.plotting_context(rc={\"axes.labelsize\":label_size}):\n",
        "   sns_hist = sn.kdeplot(\n",
        "   data=FLAIR_Tumor, x=\"FLAIR_Tumor\", hue=\"TUMOR_TYPE\",\n",
        "   fill=True, palette=palette, common_norm=common_norm, alpha=alpha, linewidth=linewidth\n",
        ")\n",
        "fl = sns_hist.get_figure()\n",
        "fl.savefig(f'{eda_dir}/analysis-2/{dataset}/pdf/FLAIR_Tumor.pdf')\n",
        "fl.savefig(f'{eda_dir}/analysis-2/{dataset}/png/FLAIR_Tumor.png')\n",
        "\n",
        "plt.figure(dpi=300)\n",
        "sn.set_style('dark', {'axes.grid' : False})\n",
        "with sn.plotting_context(rc={\"axes.labelsize\":label_size}):\n",
        "   sns_hist = sn.kdeplot(\n",
        "   data=FLAIR_Ratio, x=\"FLAIR_Ratio\", hue=\"TUMOR_TYPE\",\n",
        "   fill=True, palette=palette, common_norm=common_norm, alpha=alpha, linewidth=linewidth\n",
        ")\n",
        "fl = sns_hist.get_figure()\n",
        "fl.savefig(f'{eda_dir}/analysis-2/{dataset}/pdf/FLAIR_Ratio.pdf')\n",
        "fl.savefig(f'{eda_dir}/analysis-2/{dataset}/png/FLAIR_Ratio.png')\n",
        "\n",
        "plt.figure(dpi=300)\n",
        "sn.set_style('dark', {'axes.grid' : False})\n",
        "with sn.plotting_context(rc={\"axes.labelsize\":label_size}):\n",
        "   sns_hist = sn.kdeplot(\n",
        "   data=FLAIR_par, x=\"FLAIR_Parenchyma\", hue=\"TUMOR_TYPE\",\n",
        "   fill=True, palette=palette, common_norm=common_norm, alpha=alpha, linewidth=linewidth\n",
        ")\n",
        "fl = sns_hist.get_figure()\n",
        "fl.savefig(f'{eda_dir}/analysis-2/{dataset}/pdf/FLAIR_Parenchyma.pdf')\n",
        "fl.savefig(f'{eda_dir}/analysis-2/{dataset}/png/FLAIR_Parenchyma.png')\n",
        "\n",
        "\n",
        "\n",
        "plt.figure(dpi=300)\n",
        "sn.set_style('dark', {'axes.grid' : False})\n",
        "with sn.plotting_context(rc={\"axes.labelsize\":label_size}):\n",
        "   sns_hist = sn.kdeplot(\n",
        "   data=DWI_Ratio, x=\"DWI_Ratio\", hue=\"TUMOR_TYPE\",\n",
        "   fill=True, palette=palette, common_norm=common_norm, alpha=alpha, linewidth=linewidth\n",
        ")\n",
        "dwi = sns_hist.get_figure()\n",
        "dwi.savefig(f'{eda_dir}/analysis-2/{dataset}/pdf/DWI_Ratio.pdf')\n",
        "dwi.savefig(f'{eda_dir}/analysis-2/{dataset}/png/DWI_Ratio.png')\n",
        "\n",
        "plt.figure(dpi=300)\n",
        "sn.set_style('dark', {'axes.grid' : False})\n",
        "with sn.plotting_context(rc={\"axes.labelsize\":label_size}):\n",
        "   sns_hist = sn.kdeplot(\n",
        "   data=DWI_Tumor, x=\"DWI_Tumor\", hue=\"TUMOR_TYPE\",\n",
        "   fill=True, palette=palette, common_norm=common_norm, alpha=alpha, linewidth=linewidth\n",
        ")\n",
        "dwi = sns_hist.get_figure()\n",
        "dwi.savefig(f'{eda_dir}/analysis-2/{dataset}/pdf/DWI_Tumor.pdf')\n",
        "dwi.savefig(f'{eda_dir}/analysis-2/{dataset}/png/DWI_Tumor.png')\n",
        "\n",
        "plt.figure(dpi=300)\n",
        "sn.set_style('dark', {'axes.grid' : False})\n",
        "with sn.plotting_context(rc={\"axes.labelsize\":label_size}):\n",
        "   sns_hist = sn.kdeplot(\n",
        "   data=DWI_par, x=\"DWI_Parenchyma\", hue=\"TUMOR_TYPE\",\n",
        "   fill=True, palette=palette, common_norm=common_norm, alpha=alpha, linewidth=linewidth\n",
        ")\n",
        "dwi = sns_hist.get_figure()\n",
        "dwi.savefig(f'{eda_dir}/analysis-2/{dataset}/pdf/DWI_Parenchyma.pdf')\n",
        "dwi.savefig(f'{eda_dir}/analysis-2/{dataset}/png/DWI_Parenchyma.png')\n",
        "\n",
        "\n",
        "plt.figure(dpi=300)\n",
        "sn.set_style('dark', {'axes.grid' : False})\n",
        "with sn.plotting_context(rc={\"axes.labelsize\":label_size}):\n",
        "   sns_hist = sn.kdeplot(\n",
        "   data=ADC_Ratio, x=\"ADC_Ratio\", hue=\"TUMOR_TYPE\",\n",
        "   fill=True, palette=palette, common_norm=common_norm, alpha=alpha, linewidth=linewidth\n",
        ")\n",
        "adc = sns_hist.get_figure()\n",
        "adc.savefig(f'{eda_dir}/analysis-2/{dataset}/pdf/ADC_Ratio.pdf')\n",
        "adc.savefig(f'{eda_dir}/analysis-2/{dataset}/png/ADC_Ratio.png')\n",
        "\n",
        "plt.figure(dpi=300)\n",
        "sn.set_style('dark', {'axes.grid' : False})\n",
        "with sn.plotting_context(rc={\"axes.labelsize\":label_size}):\n",
        "   sns_hist = sn.kdeplot(\n",
        "   data=ADC_Tumor, x=\"ADC_Tumor\", hue=\"TUMOR_TYPE\",\n",
        "   fill=True, palette=palette, common_norm=common_norm, alpha=alpha, linewidth=linewidth\n",
        ")\n",
        "adc = sns_hist.get_figure()\n",
        "adc.savefig(f'{eda_dir}/analysis-2/{dataset}/pdf/ADC_Tumor.pdf')\n",
        "adc.savefig(f'{eda_dir}/analysis-2/{dataset}/png/ADC_Tumor.png')\n",
        "\n",
        "plt.figure(dpi=300)\n",
        "sn.set_style('dark', {'axes.grid' : False})\n",
        "with sn.plotting_context(rc={\"axes.labelsize\":label_size}):\n",
        "   sns_hist = sn.kdeplot(\n",
        "   data=ADC_par, x=\"ADC_Parenchyma\", hue=\"TUMOR_TYPE\",\n",
        "   fill=True, palette=palette, common_norm=common_norm, alpha=alpha, linewidth=linewidth\n",
        ")\n",
        "adc = sns_hist.get_figure()\n",
        "adc.savefig(f'{eda_dir}/analysis-2/{dataset}/pdf/ADC_Parenchyma.pdf')\n",
        "adc.savefig(f'{eda_dir}/analysis-2/{dataset}/png/ADC_Parenchyma.png')\n"
      ]
    },
    {
      "attachments": {},
      "cell_type": "markdown",
      "metadata": {},
      "source": [
        "------"
      ]
    },
    {
      "attachments": {},
      "cell_type": "markdown",
      "metadata": {},
      "source": [
        "# ANALYSIS 3"
      ]
    },
    {
      "cell_type": "code",
      "execution_count": null,
      "metadata": {},
      "outputs": [],
      "source": [
        "try:\n",
        "   os.mkdir(eda_dir)\n",
        "except OSError as error: \n",
        "   pass\n",
        "\n",
        "try:\n",
        "   os.mkdir(f'{eda_dir}/analysis-3')\n",
        "except OSError as error: \n",
        "   pass\n",
        "\n",
        "try:\n",
        "   os.mkdir(f'{eda_dir}/analysis-3/pdf')\n",
        "   os.mkdir(f'{eda_dir}/analysis-3/png')\n",
        "except OSError as error: \n",
        "   pass\n",
        "############################################\n",
        "\n",
        "pf_df = pd.read_excel(f\"{root_dir}/your/path/to/your/data.xlsx\")\n",
        "y = pf_df[\"TUMOR_TYPE\"]\n",
        "pf_df = pf_df.drop([\"TUMOR_TYPE\"], axis = 1)\n",
        "scaler = preprocessing.StandardScaler()\n",
        "scaler.fit(pf_df)\n",
        "    # Scaled features\n",
        "pf_df = pd.DataFrame(scaler.transform(pf_df), columns = pf_df.columns)\n",
        "pf_df[\"TUMOR_TYPE\"] = y"
      ]
    },
    {
      "cell_type": "code",
      "execution_count": null,
      "metadata": {},
      "outputs": [],
      "source": [
        "\n",
        "plt.figure(figsize=(24,24))\n",
        "sn.set_style('whitegrid')\n",
        "sn.set(font_scale=0.9)\n",
        "pf = sn.pairplot(pf_df, hue=\"TUMOR_TYPE\", corner=True, palette=\"ch:s=-.5,r=.5\", plot_kws={'alpha': 1}, diag_kws={'alpha': 0.55, 'common_norm': False})\n",
        "pf.savefig(f'{eda_dir}/analysis-3/pdf/all.pdf')\n",
        "pf.savefig(f'{eda_dir}/analysis-3/png/all.png')"
      ]
    },
    {
      "cell_type": "code",
      "execution_count": null,
      "metadata": {
        "id": "9WryLdaTleqE"
      },
      "outputs": [],
      "source": [
        "pf_df = pf_df.drop([\"T1_Parenchyma\"], axis = 1)\n",
        "pf_df = pf_df.drop([\"T2_Parenchyma\"], axis = 1)\n",
        "pf_df = pf_df.drop([\"FLAIR_Parenchyma\"], axis = 1)\n",
        "pf_df = pf_df.drop([\"T1CE_Parenchyma\"], axis = 1)\n",
        "pf_df = pf_df.drop([\"DWI_Parenchyma\"], axis = 1)\n",
        "pf_df = pf_df.drop([\"ADC_Parenchyma\"], axis = 1)"
      ]
    },
    {
      "cell_type": "code",
      "execution_count": null,
      "metadata": {
        "colab": {
          "base_uri": "https://localhost:8080/",
          "height": 970
        },
        "id": "nAL91HyGtObm",
        "outputId": "d2c14a16-1634-4ff3-8940-2ebfb49fc053"
      },
      "outputs": [],
      "source": [
        "plt.figure(dpi=300)\n",
        "sn.set_style('dark', {'axes.grid' : False})\n",
        "with sn.plotting_context(rc={\"axes.labelsize\":18}):\n",
        "    pf = sn.pairplot(pf_df, hue=\"TUMOR_TYPE\", corner=True, palette=\"ch:s=-.5,r=.5\", plot_kws={'alpha': 1}, diag_kws={'alpha': 0.55, 'common_norm': False})\n",
        "    sn.move_legend(pf, \"upper center\", bbox_to_anchor=(0.5, 1), ncol=4, title=None, frameon=True, fontsize=18)\n",
        "pf.savefig(f'{eda_dir}/analysis-3/pdf/all_but_no_parenchyma.pdf')\n",
        "pf.savefig(f'{eda_dir}/analysis-3/png/all_but_no_parenchyma.png')\n"
      ]
    },
    {
      "cell_type": "code",
      "execution_count": null,
      "metadata": {
        "id": "dcudKUg63vcj"
      },
      "outputs": [],
      "source": []
    },
    {
      "attachments": {},
      "cell_type": "markdown",
      "metadata": {},
      "source": [
        "# ANALYSIS 4"
      ]
    },
    {
      "cell_type": "code",
      "execution_count": null,
      "metadata": {},
      "outputs": [],
      "source": [
        "try:\n",
        "   os.mkdir(eda_dir)\n",
        "except OSError as error: \n",
        "   pass\n",
        "\n",
        "try:\n",
        "   os.mkdir(f'{eda_dir}/analysis-4')\n",
        "except OSError as error: \n",
        "   pass\n",
        "\n",
        "try:\n",
        "   os.mkdir(f'{eda_dir}/analysis-4/pdf')\n",
        "   os.mkdir(f'{eda_dir}/analysis-4/png')\n",
        "except OSError as error: \n",
        "   pass\n",
        "############################################\n",
        "\n",
        "pf_df = pd.read_excel(f\"{root_dir}/your/path/to/your/data.xlsx\")\n",
        "y = pf_df[\"TUMOR_TYPE\"]\n",
        "pf_df = pf_df.drop([\"TUMOR_TYPE\"], axis = 1)\n",
        "scaler = preprocessing.StandardScaler()\n",
        "scaler.fit(pf_df)\n",
        "    # Scaled features\n",
        "pf_df = pd.DataFrame(scaler.transform(pf_df), columns = pf_df.columns)\n",
        "pf_df[\"TUMOR_TYPE\"] = y"
      ]
    },
    {
      "cell_type": "code",
      "execution_count": null,
      "metadata": {
        "colab": {
          "base_uri": "https://localhost:8080/",
          "height": 718
        },
        "id": "nu9XRaLdZFOx",
        "outputId": "290e04fd-6019-4d4a-e6ff-acbedb31e4fc"
      },
      "outputs": [],
      "source": [
        "\n",
        "\n",
        "plt.figure(figsize = (24, 20))\n",
        "mask = np.triu(np.ones_like(pf_df.corr(), dtype = bool))\n",
        "sn.set_style('white', {'axes.grid' : False})\n",
        "sn.heatmap(pf_df.corr(), mask = mask, fmt = \".2f\", annot=True, lw=1, cmap = 'coolwarm_r', alpha = 0.7, \n",
        "            annot_kws={\n",
        "            'fontsize': 18,\n",
        "            'fontweight': 'bold'})\n",
        "plt.yticks(rotation = 0, fontweight=\"bold\", fontsize=22)\n",
        "plt.xticks(rotation = 90, fontweight=\"bold\", fontsize=22)\n",
        "plt.savefig(f'{eda_dir}/analysis-4/pdf/all_corr.pdf', bbox_inches=\"tight\",\n",
        "                pad_inches=0.1, transparent=False, dpi=300)\n",
        "plt.savefig(f'{eda_dir}/analysis-4/png/all_corr.png', bbox_inches=\"tight\",\n",
        "                pad_inches=0.1, transparent=False, dpi=300)\n",
        "plt.show()"
      ]
    },
    {
      "cell_type": "code",
      "execution_count": null,
      "metadata": {},
      "outputs": [],
      "source": []
    },
    {
      "attachments": {},
      "cell_type": "markdown",
      "metadata": {},
      "source": [
        "# ANALYSIS 5"
      ]
    },
    {
      "cell_type": "code",
      "execution_count": null,
      "metadata": {},
      "outputs": [],
      "source": [
        "try:\n",
        "   os.mkdir(f'{eda_dir}/analysis-5')\n",
        "except OSError as error: \n",
        "   pass\n",
        "\n",
        "try:\n",
        "   os.mkdir(f'{eda_dir}/analysis-5/xgb')\n",
        "   os.mkdir(f'{eda_dir}/analysis-5/rf')\n",
        "except OSError as error: \n",
        "   pass"
      ]
    },
    {
      "cell_type": "code",
      "execution_count": null,
      "metadata": {},
      "outputs": [],
      "source": [
        "# AVERAGED FEATURE IMPORTANCES\n",
        "\n",
        "#averaged_data = pd.read_excel(f\"{root_dir}/data/rf_feature_imp.xlsx\")\n",
        "averaged_data = pd.read_excel(f\"{root_dir}/data/xgb_feature_imp.xlsx\")\n",
        "averaged_data"
      ]
    },
    {
      "cell_type": "code",
      "execution_count": null,
      "metadata": {},
      "outputs": [],
      "source": [
        "##### averaged importances\n",
        "\n",
        "def print_feature_importances(fi, idx, path):\n",
        "    \n",
        "    feature_imp = pd.Series(fi, index = idx).sort_values(ascending = False)\n",
        "    sn.set_style('dark', {'axes.grid' : False})\n",
        "    with sn.plotting_context(rc={\"axes.labelsize\":16}):\n",
        "        sn.barplot(x = feature_imp, y = feature_imp.index, palette = \"coolwarm\", alpha=1)\n",
        "    print(\"\\n\")\n",
        "    plt.xlabel(\"Relative importance scores\", fontsize = 13, fontweight=\"bold\")\n",
        "    plt.ylabel(\"Features\", fontsize = 13, fontweight=\"bold\")\n",
        "    plt.title(f\"{model}: MB - EP - PA - BG\", fontsize = 14, fontweight=\"bold\", x=0.33, y=1.03)\n",
        "    plt.savefig(f'{path}.pdf', bbox_inches=\"tight\",\n",
        "                pad_inches=0.1, transparent=False, dpi=300)\n",
        "    plt.savefig(f'{path}.png', bbox_inches=\"tight\",\n",
        "                pad_inches=0.1, transparent=False, dpi=300)\n",
        "    plt.show()\n",
        "\n",
        "dataname = \"MB_EP_PA_BG\"\n",
        "model = \"XGBoost\"\n",
        "dir = f\"{eda_dir}/analysis-5/xgb/{dataname}_xgb_averaged_fi\"\n",
        "#dir = f\"{eda_dir}/analysis-5/rf/{dataname}_rf_averaged_fi\"\n",
        "\n",
        "features = averaged_data[averaged_data[\"dataset\"] == dataname].iloc[:,1:].to_numpy().ravel()\n",
        "idx = averaged_data.iloc[:, 1:].columns\n",
        "print_feature_importances(features, idx, dir)"
      ]
    },
    {
      "cell_type": "code",
      "execution_count": null,
      "metadata": {},
      "outputs": [],
      "source": []
    },
    {
      "attachments": {},
      "cell_type": "markdown",
      "metadata": {},
      "source": [
        "# Distribution"
      ]
    },
    {
      "cell_type": "code",
      "execution_count": null,
      "metadata": {},
      "outputs": [],
      "source": [
        "pf_df[\"TUMOR_TYPE\"].value_counts().plot.pie( ylabel='' ,cmap=\"flare\", autopct=\"%.2f\", figsize=(16, 16), textprops={'fontsize': 30, 'fontweight': 'bold'}, wedgeprops={\"alpha\": 0.55})"
      ]
    }
  ],
  "metadata": {
    "colab": {
      "provenance": []
    },
    "kernelspec": {
      "display_name": "base",
      "language": "python",
      "name": "python3"
    },
    "language_info": {
      "codemirror_mode": {
        "name": "ipython",
        "version": 3
      },
      "file_extension": ".py",
      "mimetype": "text/x-python",
      "name": "python",
      "nbconvert_exporter": "python",
      "pygments_lexer": "ipython3",
      "version": "3.9.13"
    },
    "vscode": {
      "interpreter": {
        "hash": "036778c85436187ccf0576769abf132d07ad2ae14ef86fe4818ff7b09f64e9de"
      }
    }
  },
  "nbformat": 4,
  "nbformat_minor": 0
}
